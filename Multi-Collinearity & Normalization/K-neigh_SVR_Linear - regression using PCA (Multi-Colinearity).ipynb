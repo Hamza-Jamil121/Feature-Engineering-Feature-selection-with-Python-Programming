{
 "cells": [
  {
   "cell_type": "code",
   "execution_count": 97,
   "metadata": {},
   "outputs": [],
   "source": [
    "from sklearn.model_selection import train_test_split \n",
    "import pandas as pd  \n",
    "import numpy as np\n",
    "import matplotlib.pyplot as plt  \n",
    "from sklearn.model_selection import train_test_split \n",
    "from sklearn.linear_model import LinearRegression\n",
    "from sklearn.preprocessing import normalize \n",
    "from sklearn import preprocessing\n",
    "from sklearn import linear_model\n",
    "from sklearn.model_selection import cross_validate\n",
    "from sklearn.model_selection import RandomizedSearchCV"
   ]
  },
  {
   "cell_type": "code",
   "execution_count": 98,
   "metadata": {},
   "outputs": [
    {
     "data": {
      "text/html": [
       "<div>\n",
       "<style scoped>\n",
       "    .dataframe tbody tr th:only-of-type {\n",
       "        vertical-align: middle;\n",
       "    }\n",
       "\n",
       "    .dataframe tbody tr th {\n",
       "        vertical-align: top;\n",
       "    }\n",
       "\n",
       "    .dataframe thead th {\n",
       "        text-align: right;\n",
       "    }\n",
       "</style>\n",
       "<table border=\"1\" class=\"dataframe\">\n",
       "  <thead>\n",
       "    <tr style=\"text-align: right;\">\n",
       "      <th></th>\n",
       "      <th>Area Code</th>\n",
       "      <th>16_% aged 0 to 4 years</th>\n",
       "      <th>16_% aged 5 to 14 years</th>\n",
       "      <th>16_% aged 65+ years</th>\n",
       "      <th>16_% aged 75+ years</th>\n",
       "      <th>16_% aged 85+ years</th>\n",
       "      <th>16_% aged under 18 years</th>\n",
       "      <th>16_% reporting good overall experience of making appointment</th>\n",
       "      <th>16_% satisfied with phone access</th>\n",
       "      <th>16_% satisfied with practice appointment times</th>\n",
       "      <th>...</th>\n",
       "      <th>18_% who have a positive experience of their GP practice</th>\n",
       "      <th>18_% with a long-standing health condition</th>\n",
       "      <th>18_% with caring responsibility</th>\n",
       "      <th>18_Deprivation score (IMD 2019)</th>\n",
       "      <th>18_IDACI - Income Deprivation Affecting Children Index</th>\n",
       "      <th>18_IDAOPI - Income Deprivation Affecting Older People Index</th>\n",
       "      <th>18_Working status - Paid work or full-time education</th>\n",
       "      <th>18_Working status - Unemployed</th>\n",
       "      <th>Labels_2018</th>\n",
       "      <th>Labels_2019</th>\n",
       "    </tr>\n",
       "  </thead>\n",
       "  <tbody>\n",
       "    <tr>\n",
       "      <th>0</th>\n",
       "      <td>A81001</td>\n",
       "      <td>4.93077</td>\n",
       "      <td>12.0962</td>\n",
       "      <td>23.2451</td>\n",
       "      <td>11.9504</td>\n",
       "      <td>3.2548</td>\n",
       "      <td>20.1846</td>\n",
       "      <td>60.6491</td>\n",
       "      <td>46.5492</td>\n",
       "      <td>63.4716</td>\n",
       "      <td>...</td>\n",
       "      <td>81.4897</td>\n",
       "      <td>52.3763</td>\n",
       "      <td>13.0285</td>\n",
       "      <td>32.3609</td>\n",
       "      <td>0.216611</td>\n",
       "      <td>0.222022</td>\n",
       "      <td>45.1355</td>\n",
       "      <td>10.8287</td>\n",
       "      <td>7.74852</td>\n",
       "      <td>14.7297</td>\n",
       "    </tr>\n",
       "    <tr>\n",
       "      <th>1</th>\n",
       "      <td>A81002</td>\n",
       "      <td>4.95606</td>\n",
       "      <td>10.8727</td>\n",
       "      <td>21.3673</td>\n",
       "      <td>9.97854</td>\n",
       "      <td>2.91743</td>\n",
       "      <td>18.7513</td>\n",
       "      <td>71.4819</td>\n",
       "      <td>71.7218</td>\n",
       "      <td>60.0434</td>\n",
       "      <td>...</td>\n",
       "      <td>85.9324</td>\n",
       "      <td>56.6667</td>\n",
       "      <td>8.26464</td>\n",
       "      <td>31.922</td>\n",
       "      <td>0.231698</td>\n",
       "      <td>0.213481</td>\n",
       "      <td>55.8607</td>\n",
       "      <td>10.6176</td>\n",
       "      <td>12.281</td>\n",
       "      <td>9.97503</td>\n",
       "    </tr>\n",
       "    <tr>\n",
       "      <th>2</th>\n",
       "      <td>A81004</td>\n",
       "      <td>5.34888</td>\n",
       "      <td>11.0402</td>\n",
       "      <td>19.1468</td>\n",
       "      <td>9.18009</td>\n",
       "      <td>2.68369</td>\n",
       "      <td>19.4522</td>\n",
       "      <td>91.2764</td>\n",
       "      <td>85.7945</td>\n",
       "      <td>81.3391</td>\n",
       "      <td>...</td>\n",
       "      <td>94.1284</td>\n",
       "      <td>42.6156</td>\n",
       "      <td>16.6675</td>\n",
       "      <td>28.024</td>\n",
       "      <td>0.211688</td>\n",
       "      <td>0.204986</td>\n",
       "      <td>67.2361</td>\n",
       "      <td>3.63694</td>\n",
       "      <td>4.48043</td>\n",
       "      <td>2.78484</td>\n",
       "    </tr>\n",
       "    <tr>\n",
       "      <th>3</th>\n",
       "      <td>A81005</td>\n",
       "      <td>4.16097</td>\n",
       "      <td>11.1042</td>\n",
       "      <td>28.5058</td>\n",
       "      <td>12.4829</td>\n",
       "      <td>3.92498</td>\n",
       "      <td>18.122</td>\n",
       "      <td>71.7348</td>\n",
       "      <td>68.8784</td>\n",
       "      <td>72.6086</td>\n",
       "      <td>...</td>\n",
       "      <td>92.121</td>\n",
       "      <td>49.0608</td>\n",
       "      <td>21.0062</td>\n",
       "      <td>15.3982</td>\n",
       "      <td>0.143181</td>\n",
       "      <td>0.108996</td>\n",
       "      <td>56.8608</td>\n",
       "      <td>2.09664</td>\n",
       "      <td>7.67015</td>\n",
       "      <td>4.95696</td>\n",
       "    </tr>\n",
       "    <tr>\n",
       "      <th>4</th>\n",
       "      <td>A81006</td>\n",
       "      <td>5.60805</td>\n",
       "      <td>12.5484</td>\n",
       "      <td>17.837</td>\n",
       "      <td>7.4842</td>\n",
       "      <td>1.85575</td>\n",
       "      <td>21.297</td>\n",
       "      <td>74.5638</td>\n",
       "      <td>68.2212</td>\n",
       "      <td>75.5383</td>\n",
       "      <td>...</td>\n",
       "      <td>90.6076</td>\n",
       "      <td>63.4425</td>\n",
       "      <td>20.7316</td>\n",
       "      <td>35.6124</td>\n",
       "      <td>0.255719</td>\n",
       "      <td>0.23922</td>\n",
       "      <td>56.682</td>\n",
       "      <td>3.44544</td>\n",
       "      <td>16.9609</td>\n",
       "      <td>11.1103</td>\n",
       "    </tr>\n",
       "  </tbody>\n",
       "</table>\n",
       "<p>5 rows × 54 columns</p>\n",
       "</div>"
      ],
      "text/plain": [
       "  Area Code 16_% aged 0 to 4 years 16_% aged 5 to 14 years  \\\n",
       "0    A81001                4.93077                 12.0962   \n",
       "1    A81002                4.95606                 10.8727   \n",
       "2    A81004                5.34888                 11.0402   \n",
       "3    A81005                4.16097                 11.1042   \n",
       "4    A81006                5.60805                 12.5484   \n",
       "\n",
       "  16_% aged 65+ years 16_% aged 75+ years 16_% aged 85+ years  \\\n",
       "0             23.2451             11.9504              3.2548   \n",
       "1             21.3673             9.97854             2.91743   \n",
       "2             19.1468             9.18009             2.68369   \n",
       "3             28.5058             12.4829             3.92498   \n",
       "4              17.837              7.4842             1.85575   \n",
       "\n",
       "  16_% aged under 18 years  \\\n",
       "0                  20.1846   \n",
       "1                  18.7513   \n",
       "2                  19.4522   \n",
       "3                   18.122   \n",
       "4                   21.297   \n",
       "\n",
       "  16_% reporting good overall experience of making appointment  \\\n",
       "0                                            60.6491             \n",
       "1                                            71.4819             \n",
       "2                                            91.2764             \n",
       "3                                            71.7348             \n",
       "4                                            74.5638             \n",
       "\n",
       "  16_% satisfied with phone access  \\\n",
       "0                          46.5492   \n",
       "1                          71.7218   \n",
       "2                          85.7945   \n",
       "3                          68.8784   \n",
       "4                          68.2212   \n",
       "\n",
       "  16_% satisfied with practice appointment times  ...  \\\n",
       "0                                        63.4716  ...   \n",
       "1                                        60.0434  ...   \n",
       "2                                        81.3391  ...   \n",
       "3                                        72.6086  ...   \n",
       "4                                        75.5383  ...   \n",
       "\n",
       "  18_% who have a positive experience of their GP practice  \\\n",
       "0                                            81.4897         \n",
       "1                                            85.9324         \n",
       "2                                            94.1284         \n",
       "3                                             92.121         \n",
       "4                                            90.6076         \n",
       "\n",
       "  18_% with a long-standing health condition 18_% with caring responsibility  \\\n",
       "0                                    52.3763                         13.0285   \n",
       "1                                    56.6667                         8.26464   \n",
       "2                                    42.6156                         16.6675   \n",
       "3                                    49.0608                         21.0062   \n",
       "4                                    63.4425                         20.7316   \n",
       "\n",
       "  18_Deprivation score (IMD 2019)  \\\n",
       "0                         32.3609   \n",
       "1                          31.922   \n",
       "2                          28.024   \n",
       "3                         15.3982   \n",
       "4                         35.6124   \n",
       "\n",
       "  18_IDACI - Income Deprivation Affecting Children Index  \\\n",
       "0                                           0.216611       \n",
       "1                                           0.231698       \n",
       "2                                           0.211688       \n",
       "3                                           0.143181       \n",
       "4                                           0.255719       \n",
       "\n",
       "  18_IDAOPI - Income Deprivation Affecting Older People Index  \\\n",
       "0                                           0.222022            \n",
       "1                                           0.213481            \n",
       "2                                           0.204986            \n",
       "3                                           0.108996            \n",
       "4                                            0.23922            \n",
       "\n",
       "  18_Working status - Paid work or full-time education  \\\n",
       "0                                            45.1355     \n",
       "1                                            55.8607     \n",
       "2                                            67.2361     \n",
       "3                                            56.8608     \n",
       "4                                             56.682     \n",
       "\n",
       "  18_Working status - Unemployed Labels_2018 Labels_2019  \n",
       "0                        10.8287     7.74852     14.7297  \n",
       "1                        10.6176      12.281     9.97503  \n",
       "2                        3.63694     4.48043     2.78484  \n",
       "3                        2.09664     7.67015     4.95696  \n",
       "4                        3.44544     16.9609     11.1103  \n",
       "\n",
       "[5 rows x 54 columns]"
      ]
     },
     "execution_count": 98,
     "metadata": {},
     "output_type": "execute_result"
    }
   ],
   "source": [
    "import pandas as pd\n",
    "import numpy as np\n",
    "re=np.load(r'2016_19_Consolidated_Features.npz',allow_pickle=True) #unpacking the dataset\n",
    "d=re['data']\n",
    "h=re['headers']\n",
    "df=pd.DataFrame(d,columns=h)\n",
    "df.head()"
   ]
  },
  {
   "cell_type": "markdown",
   "metadata": {},
   "source": [
    "# Multi-Colinearity"
   ]
  },
  {
   "cell_type": "code",
   "execution_count": 99,
   "metadata": {},
   "outputs": [],
   "source": [
    "dk=df.drop(['Labels_2019','Area Code'],axis='columns')\n",
    "y=df.Labels_2019\n"
   ]
  },
  {
   "cell_type": "code",
   "execution_count": 100,
   "metadata": {},
   "outputs": [
    {
     "name": "stderr",
     "output_type": "stream",
     "text": [
      "c:\\users\\themo\\appdata\\local\\programs\\python\\python37\\lib\\site-packages\\numpy\\core\\fromnumeric.py:2495: FutureWarning: Method .ptp is deprecated and will be removed in a future version. Use numpy.ptp instead.\n",
      "  return ptp(axis=axis, out=out, **kwargs)\n"
     ]
    }
   ],
   "source": [
    "import statsmodels.api as sm\n",
    "\n",
    "import scipy.misc\n",
    "X = sm.add_constant(dk)"
   ]
  },
  {
   "cell_type": "code",
   "execution_count": 101,
   "metadata": {},
   "outputs": [],
   "source": [
    "est = sm.OLS(y.astype(float), X.astype(float)).fit()"
   ]
  },
  {
   "cell_type": "code",
   "execution_count": 102,
   "metadata": {},
   "outputs": [
    {
     "data": {
      "text/html": [
       "<table class=\"simpletable\">\n",
       "<caption>OLS Regression Results</caption>\n",
       "<tr>\n",
       "  <th>Dep. Variable:</th>       <td>Labels_2019</td>   <th>  R-squared:         </th> <td>   0.323</td> \n",
       "</tr>\n",
       "<tr>\n",
       "  <th>Model:</th>                   <td>OLS</td>       <th>  Adj. R-squared:    </th> <td>   0.321</td> \n",
       "</tr>\n",
       "<tr>\n",
       "  <th>Method:</th>             <td>Least Squares</td>  <th>  F-statistic:       </th> <td>   174.6</td> \n",
       "</tr>\n",
       "<tr>\n",
       "  <th>Date:</th>             <td>Sun, 12 Apr 2020</td> <th>  Prob (F-statistic):</th>  <td>  0.00</td>  \n",
       "</tr>\n",
       "<tr>\n",
       "  <th>Time:</th>                 <td>02:35:55</td>     <th>  Log-Likelihood:    </th> <td> -17779.</td> \n",
       "</tr>\n",
       "<tr>\n",
       "  <th>No. Observations:</th>      <td>  6605</td>      <th>  AIC:               </th> <td>3.560e+04</td>\n",
       "</tr>\n",
       "<tr>\n",
       "  <th>Df Residuals:</th>          <td>  6586</td>      <th>  BIC:               </th> <td>3.572e+04</td>\n",
       "</tr>\n",
       "<tr>\n",
       "  <th>Df Model:</th>              <td>    18</td>      <th>                     </th>     <td> </td>    \n",
       "</tr>\n",
       "<tr>\n",
       "  <th>Covariance Type:</th>      <td>nonrobust</td>    <th>                     </th>     <td> </td>    \n",
       "</tr>\n",
       "</table>\n",
       "<table class=\"simpletable\">\n",
       "<tr>\n",
       "                                <td></td>                                  <th>coef</th>     <th>std err</th>      <th>t</th>      <th>P>|t|</th>  <th>[0.025</th>    <th>0.975]</th>  \n",
       "</tr>\n",
       "<tr>\n",
       "  <th>const</th>                                                        <td>   -3.4174</td> <td>    1.258</td> <td>   -2.717</td> <td> 0.007</td> <td>   -5.883</td> <td>   -0.952</td>\n",
       "</tr>\n",
       "<tr>\n",
       "  <th>16_% aged 0 to 4 years</th>                                       <td>    0.0437</td> <td>    0.031</td> <td>    1.422</td> <td> 0.155</td> <td>   -0.017</td> <td>    0.104</td>\n",
       "</tr>\n",
       "<tr>\n",
       "  <th>16_% aged 5 to 14 years</th>                                      <td>    0.0087</td> <td>    0.041</td> <td>    0.211</td> <td> 0.833</td> <td>   -0.072</td> <td>    0.090</td>\n",
       "</tr>\n",
       "<tr>\n",
       "  <th>16_% aged 65+ years</th>                                          <td>   -0.0444</td> <td>    0.014</td> <td>   -3.243</td> <td> 0.001</td> <td>   -0.071</td> <td>   -0.018</td>\n",
       "</tr>\n",
       "<tr>\n",
       "  <th>16_% aged 75+ years</th>                                          <td>   -0.1495</td> <td>    0.034</td> <td>   -4.410</td> <td> 0.000</td> <td>   -0.216</td> <td>   -0.083</td>\n",
       "</tr>\n",
       "<tr>\n",
       "  <th>16_% aged 85+ years</th>                                          <td>    0.2790</td> <td>    0.049</td> <td>    5.661</td> <td> 0.000</td> <td>    0.182</td> <td>    0.376</td>\n",
       "</tr>\n",
       "<tr>\n",
       "  <th>16_% aged under 18 years</th>                                     <td>   -0.0679</td> <td>    0.031</td> <td>   -2.201</td> <td> 0.028</td> <td>   -0.128</td> <td>   -0.007</td>\n",
       "</tr>\n",
       "<tr>\n",
       "  <th>16_% reporting good overall experience of making appointment</th> <td>    0.0013</td> <td>    0.003</td> <td>    0.441</td> <td> 0.659</td> <td>   -0.005</td> <td>    0.007</td>\n",
       "</tr>\n",
       "<tr>\n",
       "  <th>16_% satisfied with phone access</th>                             <td>   -0.0013</td> <td>    0.001</td> <td>   -0.890</td> <td> 0.373</td> <td>   -0.004</td> <td>    0.002</td>\n",
       "</tr>\n",
       "<tr>\n",
       "  <th>16_% satisfied with practice appointment times</th>               <td>   -0.0104</td> <td>    0.003</td> <td>   -3.823</td> <td> 0.000</td> <td>   -0.016</td> <td>   -0.005</td>\n",
       "</tr>\n",
       "<tr>\n",
       "  <th>16_% who have a positive experience of their GP practice</th>     <td>    0.0168</td> <td>    0.003</td> <td>    5.704</td> <td> 0.000</td> <td>    0.011</td> <td>    0.023</td>\n",
       "</tr>\n",
       "<tr>\n",
       "  <th>16_% with a long-standing health condition</th>                   <td>    0.0879</td> <td>    0.003</td> <td>   33.988</td> <td> 0.000</td> <td>    0.083</td> <td>    0.093</td>\n",
       "</tr>\n",
       "<tr>\n",
       "  <th>16_% with caring responsibility</th>                              <td>    0.0059</td> <td>    0.004</td> <td>    1.653</td> <td> 0.098</td> <td>   -0.001</td> <td>    0.013</td>\n",
       "</tr>\n",
       "<tr>\n",
       "  <th>16_Deprivation score (IMD 2019)</th>                              <td>    0.0244</td> <td>    0.005</td> <td>    4.725</td> <td> 0.000</td> <td>    0.014</td> <td>    0.034</td>\n",
       "</tr>\n",
       "<tr>\n",
       "  <th>16_IDACI - Income Deprivation Affecting Children Index</th>       <td>    1.2762</td> <td>    0.675</td> <td>    1.889</td> <td> 0.059</td> <td>   -0.048</td> <td>    2.600</td>\n",
       "</tr>\n",
       "<tr>\n",
       "  <th>16_IDAOPI - Income Deprivation Affecting Older People Index</th>  <td>   -2.5568</td> <td>    0.429</td> <td>   -5.960</td> <td> 0.000</td> <td>   -3.398</td> <td>   -1.716</td>\n",
       "</tr>\n",
       "<tr>\n",
       "  <th>16_Working status - Paid work or full-time education</th>         <td>    0.0079</td> <td>    0.003</td> <td>    2.506</td> <td> 0.012</td> <td>    0.002</td> <td>    0.014</td>\n",
       "</tr>\n",
       "<tr>\n",
       "  <th>16_Working status - Unemployed</th>                               <td>    0.0331</td> <td>    0.006</td> <td>    5.246</td> <td> 0.000</td> <td>    0.021</td> <td>    0.045</td>\n",
       "</tr>\n",
       "<tr>\n",
       "  <th>17_% aged 0 to 4 years</th>                                       <td>    0.0437</td> <td>    0.031</td> <td>    1.422</td> <td> 0.155</td> <td>   -0.017</td> <td>    0.104</td>\n",
       "</tr>\n",
       "<tr>\n",
       "  <th>17_% aged 5 to 14 years</th>                                      <td>    0.0087</td> <td>    0.041</td> <td>    0.211</td> <td> 0.833</td> <td>   -0.072</td> <td>    0.090</td>\n",
       "</tr>\n",
       "<tr>\n",
       "  <th>17_% aged 65+ years</th>                                          <td>   -0.0444</td> <td>    0.014</td> <td>   -3.243</td> <td> 0.001</td> <td>   -0.071</td> <td>   -0.018</td>\n",
       "</tr>\n",
       "<tr>\n",
       "  <th>17_% aged 75+ years</th>                                          <td>   -0.1495</td> <td>    0.034</td> <td>   -4.410</td> <td> 0.000</td> <td>   -0.216</td> <td>   -0.083</td>\n",
       "</tr>\n",
       "<tr>\n",
       "  <th>17_% aged 85+ years</th>                                          <td>    0.2790</td> <td>    0.049</td> <td>    5.661</td> <td> 0.000</td> <td>    0.182</td> <td>    0.376</td>\n",
       "</tr>\n",
       "<tr>\n",
       "  <th>17_% aged under 18 years</th>                                     <td>   -0.0679</td> <td>    0.031</td> <td>   -2.201</td> <td> 0.028</td> <td>   -0.128</td> <td>   -0.007</td>\n",
       "</tr>\n",
       "<tr>\n",
       "  <th>17_% reporting good overall experience of making appointment</th> <td>    0.0013</td> <td>    0.003</td> <td>    0.441</td> <td> 0.659</td> <td>   -0.005</td> <td>    0.007</td>\n",
       "</tr>\n",
       "<tr>\n",
       "  <th>17_% satisfied with phone access</th>                             <td>   -0.0013</td> <td>    0.001</td> <td>   -0.890</td> <td> 0.373</td> <td>   -0.004</td> <td>    0.002</td>\n",
       "</tr>\n",
       "<tr>\n",
       "  <th>17_% satisfied with practice appointment times</th>               <td>   -0.0104</td> <td>    0.003</td> <td>   -3.823</td> <td> 0.000</td> <td>   -0.016</td> <td>   -0.005</td>\n",
       "</tr>\n",
       "<tr>\n",
       "  <th>17_% who have a positive experience of their GP practice</th>     <td>    0.0168</td> <td>    0.003</td> <td>    5.704</td> <td> 0.000</td> <td>    0.011</td> <td>    0.023</td>\n",
       "</tr>\n",
       "<tr>\n",
       "  <th>17_% with a long-standing health condition</th>                   <td>    0.0879</td> <td>    0.003</td> <td>   33.988</td> <td> 0.000</td> <td>    0.083</td> <td>    0.093</td>\n",
       "</tr>\n",
       "<tr>\n",
       "  <th>17_% with caring responsibility</th>                              <td>    0.0059</td> <td>    0.004</td> <td>    1.653</td> <td> 0.098</td> <td>   -0.001</td> <td>    0.013</td>\n",
       "</tr>\n",
       "<tr>\n",
       "  <th>17_Deprivation score (IMD 2019)</th>                              <td>    0.0244</td> <td>    0.005</td> <td>    4.725</td> <td> 0.000</td> <td>    0.014</td> <td>    0.034</td>\n",
       "</tr>\n",
       "<tr>\n",
       "  <th>17_IDACI - Income Deprivation Affecting Children Index</th>       <td>    1.2762</td> <td>    0.675</td> <td>    1.889</td> <td> 0.059</td> <td>   -0.048</td> <td>    2.600</td>\n",
       "</tr>\n",
       "<tr>\n",
       "  <th>17_IDAOPI - Income Deprivation Affecting Older People Index</th>  <td>   -2.5568</td> <td>    0.429</td> <td>   -5.960</td> <td> 0.000</td> <td>   -3.398</td> <td>   -1.716</td>\n",
       "</tr>\n",
       "<tr>\n",
       "  <th>17_Working status - Paid work or full-time education</th>         <td>    0.0079</td> <td>    0.003</td> <td>    2.506</td> <td> 0.012</td> <td>    0.002</td> <td>    0.014</td>\n",
       "</tr>\n",
       "<tr>\n",
       "  <th>17_Working status - Unemployed</th>                               <td>    0.0331</td> <td>    0.006</td> <td>    5.246</td> <td> 0.000</td> <td>    0.021</td> <td>    0.045</td>\n",
       "</tr>\n",
       "<tr>\n",
       "  <th>18_% aged 0 to 4 years</th>                                       <td>    0.0437</td> <td>    0.031</td> <td>    1.422</td> <td> 0.155</td> <td>   -0.017</td> <td>    0.104</td>\n",
       "</tr>\n",
       "<tr>\n",
       "  <th>18_% aged 5 to 14 years</th>                                      <td>    0.0087</td> <td>    0.041</td> <td>    0.211</td> <td> 0.833</td> <td>   -0.072</td> <td>    0.090</td>\n",
       "</tr>\n",
       "<tr>\n",
       "  <th>18_% aged 65+ years</th>                                          <td>   -0.0444</td> <td>    0.014</td> <td>   -3.243</td> <td> 0.001</td> <td>   -0.071</td> <td>   -0.018</td>\n",
       "</tr>\n",
       "<tr>\n",
       "  <th>18_% aged 75+ years</th>                                          <td>   -0.1495</td> <td>    0.034</td> <td>   -4.410</td> <td> 0.000</td> <td>   -0.216</td> <td>   -0.083</td>\n",
       "</tr>\n",
       "<tr>\n",
       "  <th>18_% aged 85+ years</th>                                          <td>    0.2790</td> <td>    0.049</td> <td>    5.661</td> <td> 0.000</td> <td>    0.182</td> <td>    0.376</td>\n",
       "</tr>\n",
       "<tr>\n",
       "  <th>18_% aged under 18 years</th>                                     <td>   -0.0679</td> <td>    0.031</td> <td>   -2.201</td> <td> 0.028</td> <td>   -0.128</td> <td>   -0.007</td>\n",
       "</tr>\n",
       "<tr>\n",
       "  <th>18_% reporting good overall experience of making appointment</th> <td>    0.0013</td> <td>    0.003</td> <td>    0.441</td> <td> 0.659</td> <td>   -0.005</td> <td>    0.007</td>\n",
       "</tr>\n",
       "<tr>\n",
       "  <th>18_% satisfied with phone access</th>                             <td>   -0.0013</td> <td>    0.001</td> <td>   -0.890</td> <td> 0.373</td> <td>   -0.004</td> <td>    0.002</td>\n",
       "</tr>\n",
       "<tr>\n",
       "  <th>18_% satisfied with practice appointment times</th>               <td>   -0.0104</td> <td>    0.003</td> <td>   -3.823</td> <td> 0.000</td> <td>   -0.016</td> <td>   -0.005</td>\n",
       "</tr>\n",
       "<tr>\n",
       "  <th>18_% who have a positive experience of their GP practice</th>     <td>    0.0168</td> <td>    0.003</td> <td>    5.704</td> <td> 0.000</td> <td>    0.011</td> <td>    0.023</td>\n",
       "</tr>\n",
       "<tr>\n",
       "  <th>18_% with a long-standing health condition</th>                   <td>    0.0879</td> <td>    0.003</td> <td>   33.988</td> <td> 0.000</td> <td>    0.083</td> <td>    0.093</td>\n",
       "</tr>\n",
       "<tr>\n",
       "  <th>18_% with caring responsibility</th>                              <td>    0.0059</td> <td>    0.004</td> <td>    1.653</td> <td> 0.098</td> <td>   -0.001</td> <td>    0.013</td>\n",
       "</tr>\n",
       "<tr>\n",
       "  <th>18_Deprivation score (IMD 2019)</th>                              <td>    0.0244</td> <td>    0.005</td> <td>    4.725</td> <td> 0.000</td> <td>    0.014</td> <td>    0.034</td>\n",
       "</tr>\n",
       "<tr>\n",
       "  <th>18_IDACI - Income Deprivation Affecting Children Index</th>       <td>    1.2762</td> <td>    0.675</td> <td>    1.889</td> <td> 0.059</td> <td>   -0.048</td> <td>    2.600</td>\n",
       "</tr>\n",
       "<tr>\n",
       "  <th>18_IDAOPI - Income Deprivation Affecting Older People Index</th>  <td>   -2.5568</td> <td>    0.429</td> <td>   -5.960</td> <td> 0.000</td> <td>   -3.398</td> <td>   -1.716</td>\n",
       "</tr>\n",
       "<tr>\n",
       "  <th>18_Working status - Paid work or full-time education</th>         <td>    0.0079</td> <td>    0.003</td> <td>    2.506</td> <td> 0.012</td> <td>    0.002</td> <td>    0.014</td>\n",
       "</tr>\n",
       "<tr>\n",
       "  <th>18_Working status - Unemployed</th>                               <td>    0.0331</td> <td>    0.006</td> <td>    5.246</td> <td> 0.000</td> <td>    0.021</td> <td>    0.045</td>\n",
       "</tr>\n",
       "<tr>\n",
       "  <th>Labels_2018</th>                                                  <td>    0.1470</td> <td>    0.012</td> <td>   12.660</td> <td> 0.000</td> <td>    0.124</td> <td>    0.170</td>\n",
       "</tr>\n",
       "</table>\n",
       "<table class=\"simpletable\">\n",
       "<tr>\n",
       "  <th>Omnibus:</th>       <td>80.925</td> <th>  Durbin-Watson:     </th> <td>   1.956</td>\n",
       "</tr>\n",
       "<tr>\n",
       "  <th>Prob(Omnibus):</th> <td> 0.000</td> <th>  Jarque-Bera (JB):  </th> <td>  83.722</td>\n",
       "</tr>\n",
       "<tr>\n",
       "  <th>Skew:</th>          <td> 0.269</td> <th>  Prob(JB):          </th> <td>6.61e-19</td>\n",
       "</tr>\n",
       "<tr>\n",
       "  <th>Kurtosis:</th>      <td> 3.120</td> <th>  Cond. No.          </th> <td>1.01e+16</td>\n",
       "</tr>\n",
       "</table><br/><br/>Warnings:<br/>[1] Standard Errors assume that the covariance matrix of the errors is correctly specified.<br/>[2] The smallest eigenvalue is 5.94e-24. This might indicate that there are<br/>strong multicollinearity problems or that the design matrix is singular."
      ],
      "text/plain": [
       "<class 'statsmodels.iolib.summary.Summary'>\n",
       "\"\"\"\n",
       "                            OLS Regression Results                            \n",
       "==============================================================================\n",
       "Dep. Variable:            Labels_2019   R-squared:                       0.323\n",
       "Model:                            OLS   Adj. R-squared:                  0.321\n",
       "Method:                 Least Squares   F-statistic:                     174.6\n",
       "Date:                Sun, 12 Apr 2020   Prob (F-statistic):               0.00\n",
       "Time:                        02:35:55   Log-Likelihood:                -17779.\n",
       "No. Observations:                6605   AIC:                         3.560e+04\n",
       "Df Residuals:                    6586   BIC:                         3.572e+04\n",
       "Df Model:                          18                                         \n",
       "Covariance Type:            nonrobust                                         \n",
       "================================================================================================================================\n",
       "                                                                   coef    std err          t      P>|t|      [0.025      0.975]\n",
       "--------------------------------------------------------------------------------------------------------------------------------\n",
       "const                                                           -3.4174      1.258     -2.717      0.007      -5.883      -0.952\n",
       "16_% aged 0 to 4 years                                           0.0437      0.031      1.422      0.155      -0.017       0.104\n",
       "16_% aged 5 to 14 years                                          0.0087      0.041      0.211      0.833      -0.072       0.090\n",
       "16_% aged 65+ years                                             -0.0444      0.014     -3.243      0.001      -0.071      -0.018\n",
       "16_% aged 75+ years                                             -0.1495      0.034     -4.410      0.000      -0.216      -0.083\n",
       "16_% aged 85+ years                                              0.2790      0.049      5.661      0.000       0.182       0.376\n",
       "16_% aged under 18 years                                        -0.0679      0.031     -2.201      0.028      -0.128      -0.007\n",
       "16_% reporting good overall experience of making appointment     0.0013      0.003      0.441      0.659      -0.005       0.007\n",
       "16_% satisfied with phone access                                -0.0013      0.001     -0.890      0.373      -0.004       0.002\n",
       "16_% satisfied with practice appointment times                  -0.0104      0.003     -3.823      0.000      -0.016      -0.005\n",
       "16_% who have a positive experience of their GP practice         0.0168      0.003      5.704      0.000       0.011       0.023\n",
       "16_% with a long-standing health condition                       0.0879      0.003     33.988      0.000       0.083       0.093\n",
       "16_% with caring responsibility                                  0.0059      0.004      1.653      0.098      -0.001       0.013\n",
       "16_Deprivation score (IMD 2019)                                  0.0244      0.005      4.725      0.000       0.014       0.034\n",
       "16_IDACI - Income Deprivation Affecting Children Index           1.2762      0.675      1.889      0.059      -0.048       2.600\n",
       "16_IDAOPI - Income Deprivation Affecting Older People Index     -2.5568      0.429     -5.960      0.000      -3.398      -1.716\n",
       "16_Working status - Paid work or full-time education             0.0079      0.003      2.506      0.012       0.002       0.014\n",
       "16_Working status - Unemployed                                   0.0331      0.006      5.246      0.000       0.021       0.045\n",
       "17_% aged 0 to 4 years                                           0.0437      0.031      1.422      0.155      -0.017       0.104\n",
       "17_% aged 5 to 14 years                                          0.0087      0.041      0.211      0.833      -0.072       0.090\n",
       "17_% aged 65+ years                                             -0.0444      0.014     -3.243      0.001      -0.071      -0.018\n",
       "17_% aged 75+ years                                             -0.1495      0.034     -4.410      0.000      -0.216      -0.083\n",
       "17_% aged 85+ years                                              0.2790      0.049      5.661      0.000       0.182       0.376\n",
       "17_% aged under 18 years                                        -0.0679      0.031     -2.201      0.028      -0.128      -0.007\n",
       "17_% reporting good overall experience of making appointment     0.0013      0.003      0.441      0.659      -0.005       0.007\n",
       "17_% satisfied with phone access                                -0.0013      0.001     -0.890      0.373      -0.004       0.002\n",
       "17_% satisfied with practice appointment times                  -0.0104      0.003     -3.823      0.000      -0.016      -0.005\n",
       "17_% who have a positive experience of their GP practice         0.0168      0.003      5.704      0.000       0.011       0.023\n",
       "17_% with a long-standing health condition                       0.0879      0.003     33.988      0.000       0.083       0.093\n",
       "17_% with caring responsibility                                  0.0059      0.004      1.653      0.098      -0.001       0.013\n",
       "17_Deprivation score (IMD 2019)                                  0.0244      0.005      4.725      0.000       0.014       0.034\n",
       "17_IDACI - Income Deprivation Affecting Children Index           1.2762      0.675      1.889      0.059      -0.048       2.600\n",
       "17_IDAOPI - Income Deprivation Affecting Older People Index     -2.5568      0.429     -5.960      0.000      -3.398      -1.716\n",
       "17_Working status - Paid work or full-time education             0.0079      0.003      2.506      0.012       0.002       0.014\n",
       "17_Working status - Unemployed                                   0.0331      0.006      5.246      0.000       0.021       0.045\n",
       "18_% aged 0 to 4 years                                           0.0437      0.031      1.422      0.155      -0.017       0.104\n",
       "18_% aged 5 to 14 years                                          0.0087      0.041      0.211      0.833      -0.072       0.090\n",
       "18_% aged 65+ years                                             -0.0444      0.014     -3.243      0.001      -0.071      -0.018\n",
       "18_% aged 75+ years                                             -0.1495      0.034     -4.410      0.000      -0.216      -0.083\n",
       "18_% aged 85+ years                                              0.2790      0.049      5.661      0.000       0.182       0.376\n",
       "18_% aged under 18 years                                        -0.0679      0.031     -2.201      0.028      -0.128      -0.007\n",
       "18_% reporting good overall experience of making appointment     0.0013      0.003      0.441      0.659      -0.005       0.007\n",
       "18_% satisfied with phone access                                -0.0013      0.001     -0.890      0.373      -0.004       0.002\n",
       "18_% satisfied with practice appointment times                  -0.0104      0.003     -3.823      0.000      -0.016      -0.005\n",
       "18_% who have a positive experience of their GP practice         0.0168      0.003      5.704      0.000       0.011       0.023\n",
       "18_% with a long-standing health condition                       0.0879      0.003     33.988      0.000       0.083       0.093\n",
       "18_% with caring responsibility                                  0.0059      0.004      1.653      0.098      -0.001       0.013\n",
       "18_Deprivation score (IMD 2019)                                  0.0244      0.005      4.725      0.000       0.014       0.034\n",
       "18_IDACI - Income Deprivation Affecting Children Index           1.2762      0.675      1.889      0.059      -0.048       2.600\n",
       "18_IDAOPI - Income Deprivation Affecting Older People Index     -2.5568      0.429     -5.960      0.000      -3.398      -1.716\n",
       "18_Working status - Paid work or full-time education             0.0079      0.003      2.506      0.012       0.002       0.014\n",
       "18_Working status - Unemployed                                   0.0331      0.006      5.246      0.000       0.021       0.045\n",
       "Labels_2018                                                      0.1470      0.012     12.660      0.000       0.124       0.170\n",
       "==============================================================================\n",
       "Omnibus:                       80.925   Durbin-Watson:                   1.956\n",
       "Prob(Omnibus):                  0.000   Jarque-Bera (JB):               83.722\n",
       "Skew:                           0.269   Prob(JB):                     6.61e-19\n",
       "Kurtosis:                       3.120   Cond. No.                     1.01e+16\n",
       "==============================================================================\n",
       "\n",
       "Warnings:\n",
       "[1] Standard Errors assume that the covariance matrix of the errors is correctly specified.\n",
       "[2] The smallest eigenvalue is 5.94e-24. This might indicate that there are\n",
       "strong multicollinearity problems or that the design matrix is singular.\n",
       "\"\"\""
      ]
     },
     "execution_count": 102,
     "metadata": {},
     "output_type": "execute_result"
    }
   ],
   "source": [
    "est.summary() # here i see P value of each feature and select those that P value is less then 0.05"
   ]
  },
  {
   "cell_type": "code",
   "execution_count": 103,
   "metadata": {},
   "outputs": [
    {
     "data": {
      "text/html": [
       "<div>\n",
       "<style scoped>\n",
       "    .dataframe tbody tr th:only-of-type {\n",
       "        vertical-align: middle;\n",
       "    }\n",
       "\n",
       "    .dataframe tbody tr th {\n",
       "        vertical-align: top;\n",
       "    }\n",
       "\n",
       "    .dataframe thead th {\n",
       "        text-align: right;\n",
       "    }\n",
       "</style>\n",
       "<table border=\"1\" class=\"dataframe\">\n",
       "  <thead>\n",
       "    <tr style=\"text-align: right;\">\n",
       "      <th></th>\n",
       "      <th>16_% aged 65+ years</th>\n",
       "      <th>16_% aged 75+ years</th>\n",
       "      <th>16_% aged 85+ years</th>\n",
       "      <th>16_% aged under 18 years</th>\n",
       "      <th>16_% satisfied with practice appointment times</th>\n",
       "      <th>16_% who have a positive experience of their GP practice</th>\n",
       "      <th>16_% with a long-standing health condition</th>\n",
       "      <th>16_% with caring responsibility</th>\n",
       "      <th>16_Deprivation score (IMD 2019)</th>\n",
       "      <th>16_IDACI - Income Deprivation Affecting Children Index</th>\n",
       "      <th>...</th>\n",
       "      <th>18_% who have a positive experience of their GP practice</th>\n",
       "      <th>18_% with a long-standing health condition</th>\n",
       "      <th>18_% with caring responsibility</th>\n",
       "      <th>18_Deprivation score (IMD 2019)</th>\n",
       "      <th>18_IDACI - Income Deprivation Affecting Children Index</th>\n",
       "      <th>18_IDAOPI - Income Deprivation Affecting Older People Index</th>\n",
       "      <th>18_Working status - Paid work or full-time education</th>\n",
       "      <th>18_Working status - Unemployed</th>\n",
       "      <th>Labels_2018</th>\n",
       "      <th>label 2019</th>\n",
       "    </tr>\n",
       "  </thead>\n",
       "  <tbody>\n",
       "    <tr>\n",
       "      <th>0</th>\n",
       "      <td>23.2451</td>\n",
       "      <td>11.9504</td>\n",
       "      <td>3.2548</td>\n",
       "      <td>20.1846</td>\n",
       "      <td>63.4716</td>\n",
       "      <td>81.4897</td>\n",
       "      <td>52.3763</td>\n",
       "      <td>13.0285</td>\n",
       "      <td>32.3609</td>\n",
       "      <td>0.216611</td>\n",
       "      <td>...</td>\n",
       "      <td>81.4897</td>\n",
       "      <td>52.3763</td>\n",
       "      <td>13.0285</td>\n",
       "      <td>32.3609</td>\n",
       "      <td>0.216611</td>\n",
       "      <td>0.222022</td>\n",
       "      <td>45.1355</td>\n",
       "      <td>10.8287</td>\n",
       "      <td>7.74852</td>\n",
       "      <td>14.7297</td>\n",
       "    </tr>\n",
       "    <tr>\n",
       "      <th>1</th>\n",
       "      <td>21.3673</td>\n",
       "      <td>9.97854</td>\n",
       "      <td>2.91743</td>\n",
       "      <td>18.7513</td>\n",
       "      <td>60.0434</td>\n",
       "      <td>85.9324</td>\n",
       "      <td>56.6667</td>\n",
       "      <td>8.26464</td>\n",
       "      <td>31.922</td>\n",
       "      <td>0.231698</td>\n",
       "      <td>...</td>\n",
       "      <td>85.9324</td>\n",
       "      <td>56.6667</td>\n",
       "      <td>8.26464</td>\n",
       "      <td>31.922</td>\n",
       "      <td>0.231698</td>\n",
       "      <td>0.213481</td>\n",
       "      <td>55.8607</td>\n",
       "      <td>10.6176</td>\n",
       "      <td>12.281</td>\n",
       "      <td>9.97503</td>\n",
       "    </tr>\n",
       "    <tr>\n",
       "      <th>2</th>\n",
       "      <td>19.1468</td>\n",
       "      <td>9.18009</td>\n",
       "      <td>2.68369</td>\n",
       "      <td>19.4522</td>\n",
       "      <td>81.3391</td>\n",
       "      <td>94.1284</td>\n",
       "      <td>42.6156</td>\n",
       "      <td>16.6675</td>\n",
       "      <td>28.024</td>\n",
       "      <td>0.211688</td>\n",
       "      <td>...</td>\n",
       "      <td>94.1284</td>\n",
       "      <td>42.6156</td>\n",
       "      <td>16.6675</td>\n",
       "      <td>28.024</td>\n",
       "      <td>0.211688</td>\n",
       "      <td>0.204986</td>\n",
       "      <td>67.2361</td>\n",
       "      <td>3.63694</td>\n",
       "      <td>4.48043</td>\n",
       "      <td>2.78484</td>\n",
       "    </tr>\n",
       "    <tr>\n",
       "      <th>3</th>\n",
       "      <td>28.5058</td>\n",
       "      <td>12.4829</td>\n",
       "      <td>3.92498</td>\n",
       "      <td>18.122</td>\n",
       "      <td>72.6086</td>\n",
       "      <td>92.121</td>\n",
       "      <td>49.0608</td>\n",
       "      <td>21.0062</td>\n",
       "      <td>15.3982</td>\n",
       "      <td>0.143181</td>\n",
       "      <td>...</td>\n",
       "      <td>92.121</td>\n",
       "      <td>49.0608</td>\n",
       "      <td>21.0062</td>\n",
       "      <td>15.3982</td>\n",
       "      <td>0.143181</td>\n",
       "      <td>0.108996</td>\n",
       "      <td>56.8608</td>\n",
       "      <td>2.09664</td>\n",
       "      <td>7.67015</td>\n",
       "      <td>4.95696</td>\n",
       "    </tr>\n",
       "    <tr>\n",
       "      <th>4</th>\n",
       "      <td>17.837</td>\n",
       "      <td>7.4842</td>\n",
       "      <td>1.85575</td>\n",
       "      <td>21.297</td>\n",
       "      <td>75.5383</td>\n",
       "      <td>90.6076</td>\n",
       "      <td>63.4425</td>\n",
       "      <td>20.7316</td>\n",
       "      <td>35.6124</td>\n",
       "      <td>0.255719</td>\n",
       "      <td>...</td>\n",
       "      <td>90.6076</td>\n",
       "      <td>63.4425</td>\n",
       "      <td>20.7316</td>\n",
       "      <td>35.6124</td>\n",
       "      <td>0.255719</td>\n",
       "      <td>0.23922</td>\n",
       "      <td>56.682</td>\n",
       "      <td>3.44544</td>\n",
       "      <td>16.9609</td>\n",
       "      <td>11.1103</td>\n",
       "    </tr>\n",
       "    <tr>\n",
       "      <th>...</th>\n",
       "      <td>...</td>\n",
       "      <td>...</td>\n",
       "      <td>...</td>\n",
       "      <td>...</td>\n",
       "      <td>...</td>\n",
       "      <td>...</td>\n",
       "      <td>...</td>\n",
       "      <td>...</td>\n",
       "      <td>...</td>\n",
       "      <td>...</td>\n",
       "      <td>...</td>\n",
       "      <td>...</td>\n",
       "      <td>...</td>\n",
       "      <td>...</td>\n",
       "      <td>...</td>\n",
       "      <td>...</td>\n",
       "      <td>...</td>\n",
       "      <td>...</td>\n",
       "      <td>...</td>\n",
       "      <td>...</td>\n",
       "      <td>...</td>\n",
       "    </tr>\n",
       "    <tr>\n",
       "      <th>6600</th>\n",
       "      <td>2.12908</td>\n",
       "      <td>0.221779</td>\n",
       "      <td>0.0443557</td>\n",
       "      <td>14.4156</td>\n",
       "      <td>55.704</td>\n",
       "      <td>81.3092</td>\n",
       "      <td>41.3403</td>\n",
       "      <td>8.3804</td>\n",
       "      <td>27.865</td>\n",
       "      <td>0.177407</td>\n",
       "      <td>...</td>\n",
       "      <td>81.3092</td>\n",
       "      <td>41.3403</td>\n",
       "      <td>8.3804</td>\n",
       "      <td>27.865</td>\n",
       "      <td>0.177407</td>\n",
       "      <td>0.315963</td>\n",
       "      <td>82.5328</td>\n",
       "      <td>5.18191</td>\n",
       "      <td>19.1241</td>\n",
       "      <td>17.8172</td>\n",
       "    </tr>\n",
       "    <tr>\n",
       "      <th>6601</th>\n",
       "      <td>12.2905</td>\n",
       "      <td>5</td>\n",
       "      <td>1.25698</td>\n",
       "      <td>26.3687</td>\n",
       "      <td>39.8332</td>\n",
       "      <td>58.2895</td>\n",
       "      <td>62.7003</td>\n",
       "      <td>21.8087</td>\n",
       "      <td>31.6164</td>\n",
       "      <td>0.222548</td>\n",
       "      <td>...</td>\n",
       "      <td>58.2895</td>\n",
       "      <td>62.7003</td>\n",
       "      <td>21.8087</td>\n",
       "      <td>31.6164</td>\n",
       "      <td>0.222548</td>\n",
       "      <td>0.186798</td>\n",
       "      <td>64.7748</td>\n",
       "      <td>1.63591</td>\n",
       "      <td>10.768</td>\n",
       "      <td>23.3125</td>\n",
       "    </tr>\n",
       "    <tr>\n",
       "      <th>6602</th>\n",
       "      <td>17.098</td>\n",
       "      <td>6.50449</td>\n",
       "      <td>1.81159</td>\n",
       "      <td>23.3609</td>\n",
       "      <td>64.7015</td>\n",
       "      <td>85.5422</td>\n",
       "      <td>40.5186</td>\n",
       "      <td>16.0066</td>\n",
       "      <td>14.894</td>\n",
       "      <td>0.113297</td>\n",
       "      <td>...</td>\n",
       "      <td>85.5422</td>\n",
       "      <td>40.5186</td>\n",
       "      <td>16.0066</td>\n",
       "      <td>14.894</td>\n",
       "      <td>0.113297</td>\n",
       "      <td>0.0968133</td>\n",
       "      <td>61.5345</td>\n",
       "      <td>3.84419</td>\n",
       "      <td>6.16453</td>\n",
       "      <td>3.91107</td>\n",
       "    </tr>\n",
       "    <tr>\n",
       "      <th>6603</th>\n",
       "      <td>12.1251</td>\n",
       "      <td>5.06269</td>\n",
       "      <td>1.2379</td>\n",
       "      <td>29.6461</td>\n",
       "      <td>59.1467</td>\n",
       "      <td>82.0563</td>\n",
       "      <td>63.568</td>\n",
       "      <td>22.3149</td>\n",
       "      <td>28.2007</td>\n",
       "      <td>0.230636</td>\n",
       "      <td>...</td>\n",
       "      <td>82.0563</td>\n",
       "      <td>63.568</td>\n",
       "      <td>22.3149</td>\n",
       "      <td>28.2007</td>\n",
       "      <td>0.230636</td>\n",
       "      <td>0.159571</td>\n",
       "      <td>66.4455</td>\n",
       "      <td>1.25695</td>\n",
       "      <td>16.6139</td>\n",
       "      <td>17.4762</td>\n",
       "    </tr>\n",
       "    <tr>\n",
       "      <th>6604</th>\n",
       "      <td>16.2691</td>\n",
       "      <td>7.87959</td>\n",
       "      <td>1.82596</td>\n",
       "      <td>22.3063</td>\n",
       "      <td>46.1919</td>\n",
       "      <td>69.5126</td>\n",
       "      <td>54.6998</td>\n",
       "      <td>17.3501</td>\n",
       "      <td>32.9173</td>\n",
       "      <td>0.252489</td>\n",
       "      <td>...</td>\n",
       "      <td>69.5126</td>\n",
       "      <td>54.6998</td>\n",
       "      <td>17.3501</td>\n",
       "      <td>32.9173</td>\n",
       "      <td>0.252489</td>\n",
       "      <td>0.207873</td>\n",
       "      <td>54.4902</td>\n",
       "      <td>7.40676</td>\n",
       "      <td>7.69875</td>\n",
       "      <td>13.5476</td>\n",
       "    </tr>\n",
       "  </tbody>\n",
       "</table>\n",
       "<p>6605 rows × 41 columns</p>\n",
       "</div>"
      ],
      "text/plain": [
       "     16_% aged 65+ years 16_% aged 75+ years 16_% aged 85+ years  \\\n",
       "0                23.2451             11.9504              3.2548   \n",
       "1                21.3673             9.97854             2.91743   \n",
       "2                19.1468             9.18009             2.68369   \n",
       "3                28.5058             12.4829             3.92498   \n",
       "4                 17.837              7.4842             1.85575   \n",
       "...                  ...                 ...                 ...   \n",
       "6600             2.12908            0.221779           0.0443557   \n",
       "6601             12.2905                   5             1.25698   \n",
       "6602              17.098             6.50449             1.81159   \n",
       "6603             12.1251             5.06269              1.2379   \n",
       "6604             16.2691             7.87959             1.82596   \n",
       "\n",
       "     16_% aged under 18 years 16_% satisfied with practice appointment times  \\\n",
       "0                     20.1846                                        63.4716   \n",
       "1                     18.7513                                        60.0434   \n",
       "2                     19.4522                                        81.3391   \n",
       "3                      18.122                                        72.6086   \n",
       "4                      21.297                                        75.5383   \n",
       "...                       ...                                            ...   \n",
       "6600                  14.4156                                         55.704   \n",
       "6601                  26.3687                                        39.8332   \n",
       "6602                  23.3609                                        64.7015   \n",
       "6603                  29.6461                                        59.1467   \n",
       "6604                  22.3063                                        46.1919   \n",
       "\n",
       "     16_% who have a positive experience of their GP practice  \\\n",
       "0                                               81.4897         \n",
       "1                                               85.9324         \n",
       "2                                               94.1284         \n",
       "3                                                92.121         \n",
       "4                                               90.6076         \n",
       "...                                                 ...         \n",
       "6600                                            81.3092         \n",
       "6601                                            58.2895         \n",
       "6602                                            85.5422         \n",
       "6603                                            82.0563         \n",
       "6604                                            69.5126         \n",
       "\n",
       "     16_% with a long-standing health condition  \\\n",
       "0                                       52.3763   \n",
       "1                                       56.6667   \n",
       "2                                       42.6156   \n",
       "3                                       49.0608   \n",
       "4                                       63.4425   \n",
       "...                                         ...   \n",
       "6600                                    41.3403   \n",
       "6601                                    62.7003   \n",
       "6602                                    40.5186   \n",
       "6603                                     63.568   \n",
       "6604                                    54.6998   \n",
       "\n",
       "     16_% with caring responsibility 16_Deprivation score (IMD 2019)  \\\n",
       "0                            13.0285                         32.3609   \n",
       "1                            8.26464                          31.922   \n",
       "2                            16.6675                          28.024   \n",
       "3                            21.0062                         15.3982   \n",
       "4                            20.7316                         35.6124   \n",
       "...                              ...                             ...   \n",
       "6600                          8.3804                          27.865   \n",
       "6601                         21.8087                         31.6164   \n",
       "6602                         16.0066                          14.894   \n",
       "6603                         22.3149                         28.2007   \n",
       "6604                         17.3501                         32.9173   \n",
       "\n",
       "     16_IDACI - Income Deprivation Affecting Children Index  ...  \\\n",
       "0                                              0.216611      ...   \n",
       "1                                              0.231698      ...   \n",
       "2                                              0.211688      ...   \n",
       "3                                              0.143181      ...   \n",
       "4                                              0.255719      ...   \n",
       "...                                                 ...      ...   \n",
       "6600                                           0.177407      ...   \n",
       "6601                                           0.222548      ...   \n",
       "6602                                           0.113297      ...   \n",
       "6603                                           0.230636      ...   \n",
       "6604                                           0.252489      ...   \n",
       "\n",
       "     18_% who have a positive experience of their GP practice  \\\n",
       "0                                               81.4897         \n",
       "1                                               85.9324         \n",
       "2                                               94.1284         \n",
       "3                                                92.121         \n",
       "4                                               90.6076         \n",
       "...                                                 ...         \n",
       "6600                                            81.3092         \n",
       "6601                                            58.2895         \n",
       "6602                                            85.5422         \n",
       "6603                                            82.0563         \n",
       "6604                                            69.5126         \n",
       "\n",
       "     18_% with a long-standing health condition  \\\n",
       "0                                       52.3763   \n",
       "1                                       56.6667   \n",
       "2                                       42.6156   \n",
       "3                                       49.0608   \n",
       "4                                       63.4425   \n",
       "...                                         ...   \n",
       "6600                                    41.3403   \n",
       "6601                                    62.7003   \n",
       "6602                                    40.5186   \n",
       "6603                                     63.568   \n",
       "6604                                    54.6998   \n",
       "\n",
       "     18_% with caring responsibility 18_Deprivation score (IMD 2019)  \\\n",
       "0                            13.0285                         32.3609   \n",
       "1                            8.26464                          31.922   \n",
       "2                            16.6675                          28.024   \n",
       "3                            21.0062                         15.3982   \n",
       "4                            20.7316                         35.6124   \n",
       "...                              ...                             ...   \n",
       "6600                          8.3804                          27.865   \n",
       "6601                         21.8087                         31.6164   \n",
       "6602                         16.0066                          14.894   \n",
       "6603                         22.3149                         28.2007   \n",
       "6604                         17.3501                         32.9173   \n",
       "\n",
       "     18_IDACI - Income Deprivation Affecting Children Index  \\\n",
       "0                                              0.216611       \n",
       "1                                              0.231698       \n",
       "2                                              0.211688       \n",
       "3                                              0.143181       \n",
       "4                                              0.255719       \n",
       "...                                                 ...       \n",
       "6600                                           0.177407       \n",
       "6601                                           0.222548       \n",
       "6602                                           0.113297       \n",
       "6603                                           0.230636       \n",
       "6604                                           0.252489       \n",
       "\n",
       "     18_IDAOPI - Income Deprivation Affecting Older People Index  \\\n",
       "0                                              0.222022            \n",
       "1                                              0.213481            \n",
       "2                                              0.204986            \n",
       "3                                              0.108996            \n",
       "4                                               0.23922            \n",
       "...                                                 ...            \n",
       "6600                                           0.315963            \n",
       "6601                                           0.186798            \n",
       "6602                                          0.0968133            \n",
       "6603                                           0.159571            \n",
       "6604                                           0.207873            \n",
       "\n",
       "     18_Working status - Paid work or full-time education  \\\n",
       "0                                               45.1355     \n",
       "1                                               55.8607     \n",
       "2                                               67.2361     \n",
       "3                                               56.8608     \n",
       "4                                                56.682     \n",
       "...                                                 ...     \n",
       "6600                                            82.5328     \n",
       "6601                                            64.7748     \n",
       "6602                                            61.5345     \n",
       "6603                                            66.4455     \n",
       "6604                                            54.4902     \n",
       "\n",
       "     18_Working status - Unemployed Labels_2018 label 2019  \n",
       "0                           10.8287     7.74852    14.7297  \n",
       "1                           10.6176      12.281    9.97503  \n",
       "2                           3.63694     4.48043    2.78484  \n",
       "3                           2.09664     7.67015    4.95696  \n",
       "4                           3.44544     16.9609    11.1103  \n",
       "...                             ...         ...        ...  \n",
       "6600                        5.18191     19.1241    17.8172  \n",
       "6601                        1.63591      10.768    23.3125  \n",
       "6602                        3.84419     6.16453    3.91107  \n",
       "6603                        1.25695     16.6139    17.4762  \n",
       "6604                        7.40676     7.69875    13.5476  \n",
       "\n",
       "[6605 rows x 41 columns]"
      ]
     },
     "execution_count": 103,
     "metadata": {},
     "output_type": "execute_result"
    }
   ],
   "source": [
    "# after the multicolinearity we have only 41 features out of 56\n",
    "#https://www.graphpad.com/support/faq/multicollinearity-in-multiple-regression/ says to remove everything with low p value\n",
    "new=X.drop(['16_% aged 0 to 4 years','16_% aged 5 to 14 years','16_% reporting good overall experience of making appointment',\n",
    "           '16_% satisfied with phone access','17_% aged 0 to 4 years','17_% aged 5 to 14 years','17_% reporting good overall experience of making appointment',\n",
    "           '17_% satisfied with phone access','18_% aged 0 to 4 years','18_% aged 5 to 14 years','18_% reporting good overall experience of making appointment',\n",
    "           '18_% satisfied with phone access','const'],axis=1)\n",
    "new['label 2019']=y\n",
    "new"
   ]
  },
  {
   "cell_type": "code",
   "execution_count": 104,
   "metadata": {},
   "outputs": [
    {
     "data": {
      "text/plain": [
       "StandardScaler(copy=True, with_mean=True, with_std=True)"
      ]
     },
     "execution_count": 104,
     "metadata": {},
     "output_type": "execute_result"
    }
   ],
   "source": [
    "from sklearn.preprocessing import StandardScaler\n",
    "scaler = StandardScaler()\n",
    "scaler.fit(new)"
   ]
  },
  {
   "cell_type": "code",
   "execution_count": 105,
   "metadata": {},
   "outputs": [
    {
     "data": {
      "text/plain": [
       "(6605, 41)"
      ]
     },
     "execution_count": 105,
     "metadata": {},
     "output_type": "execute_result"
    }
   ],
   "source": [
    "scaled_data = scaler.transform(new)\n",
    "scaled_data.shape"
   ]
  },
  {
   "cell_type": "code",
   "execution_count": 106,
   "metadata": {},
   "outputs": [
    {
     "data": {
      "text/plain": [
       "PCA(copy=True, iterated_power='auto', n_components=0.99, random_state=None,\n",
       "    svd_solver='auto', tol=0.0, whiten=False)"
      ]
     },
     "execution_count": 106,
     "metadata": {},
     "output_type": "execute_result"
    }
   ],
   "source": [
    "from sklearn.decomposition import PCA\n",
    "pca = PCA(0.99)\n",
    "pca.fit(scaled_data)"
   ]
  },
  {
   "cell_type": "code",
   "execution_count": 107,
   "metadata": {},
   "outputs": [
    {
     "data": {
      "text/plain": [
       "(6605, 12)"
      ]
     },
     "execution_count": 107,
     "metadata": {},
     "output_type": "execute_result"
    }
   ],
   "source": [
    "x_pca = pca.transform(scaled_data)\n",
    "x_pca.shape"
   ]
  },
  {
   "cell_type": "code",
   "execution_count": 108,
   "metadata": {},
   "outputs": [
    {
     "data": {
      "text/plain": [
       "(5284, 12)"
      ]
     },
     "execution_count": 108,
     "metadata": {},
     "output_type": "execute_result"
    }
   ],
   "source": [
    "\n",
    "X_train, X_test, y_train, y_test = train_test_split(x_pca, y, test_size=0.20,random_state=42)\n",
    "X_train.shape"
   ]
  },
  {
   "cell_type": "code",
   "execution_count": 109,
   "metadata": {},
   "outputs": [
    {
     "data": {
      "text/plain": [
       "KNeighborsRegressor(algorithm='auto', leaf_size=30, metric='minkowski',\n",
       "                    metric_params=None, n_jobs=None, n_neighbors=2, p=2,\n",
       "                    weights='uniform')"
      ]
     },
     "execution_count": 109,
     "metadata": {},
     "output_type": "execute_result"
    }
   ],
   "source": [
    "from sklearn.neighbors import KNeighborsRegressor #here i put n_neighbor = 2 and i  get 65% accuracy\n",
    "neigh = KNeighborsRegressor(n_neighbors=2,p=2)  # n_neighbor = 1 you get 100% accuracy\n",
    "neigh.fit(x_pca,y)"
   ]
  },
  {
   "cell_type": "code",
   "execution_count": 110,
   "metadata": {},
   "outputs": [],
   "source": [
    "pr=neigh.predict(X_test)"
   ]
  },
  {
   "cell_type": "code",
   "execution_count": 111,
   "metadata": {},
   "outputs": [
    {
     "data": {
      "text/plain": [
       "0.8815514754434712"
      ]
     },
     "execution_count": 111,
     "metadata": {},
     "output_type": "execute_result"
    }
   ],
   "source": [
    "neigh.score(X_test,y_test) # you get 65% accuracy"
   ]
  },
  {
   "cell_type": "code",
   "execution_count": 112,
   "metadata": {},
   "outputs": [
    {
     "data": {
      "text/plain": [
       "0.8815514754434712"
      ]
     },
     "execution_count": 112,
     "metadata": {},
     "output_type": "execute_result"
    }
   ],
   "source": [
    "from sklearn.metrics import r2_score\n",
    "cr=r2_score(y_test,pr)\n",
    "cr"
   ]
  },
  {
   "cell_type": "code",
   "execution_count": 113,
   "metadata": {},
   "outputs": [
    {
     "data": {
      "text/plain": [
       "<ErrorbarContainer object of 3 artists>"
      ]
     },
     "execution_count": 113,
     "metadata": {},
     "output_type": "execute_result"
    },
    {
     "data": {
      "image/png": "[encoded data removed]",
      "text/plain": [
       "<Figure size 432x288 with 1 Axes>"
      ]
     },
     "metadata": {
      "needs_background": "light"
     },
     "output_type": "display_data"
    }
   ],
   "source": [
    "%matplotlib inline\n",
    "fig = plt.figure()\n",
    "ax = fig.add_subplot(111)\n",
    "ax.errorbar(y_test, pr, fmt='o')\n",
    "ax.errorbar([1, y_test.max()], [1, y_test.max()])\n"
   ]
  },
  {
   "cell_type": "code",
   "execution_count": 114,
   "metadata": {},
   "outputs": [
    {
     "name": "stdout",
     "output_type": "stream",
     "text": [
      "this is R2 score: 0.8815514754434712\n",
      "This is Mean Absolute Error: 1.164971269000719\n",
      "This is Mean squared Error: 2.217713981967749\n"
     ]
    }
   ],
   "source": [
    "from sklearn.metrics import r2_score, mean_absolute_error, mean_squared_error\n",
    "cr=r2_score(y_test,pr)\n",
    "mae=mean_absolute_error(y_test, pr)\n",
    "mse=mean_squared_error(y_test,pr)\n",
    "print(\"this is R2 score:\", cr)\n",
    "print(\"This is Mean Absolute Error:\", mae)\n",
    "print(\"This is Mean squared Error:\", mse)\n"
   ]
  },
  {
   "cell_type": "markdown",
   "metadata": {},
   "source": [
    "# linear"
   ]
  },
  {
   "cell_type": "code",
   "execution_count": 126,
   "metadata": {},
   "outputs": [],
   "source": [
    "from sklearn import linear_model\n",
    "mode=linear_model.LinearRegression()\n"
   ]
  },
  {
   "cell_type": "code",
   "execution_count": 127,
   "metadata": {},
   "outputs": [
    {
     "data": {
      "text/plain": [
       "LinearRegression(copy_X=True, fit_intercept=True, n_jobs=None, normalize=False)"
      ]
     },
     "execution_count": 127,
     "metadata": {},
     "output_type": "execute_result"
    }
   ],
   "source": [
    "mode.fit(x_pca,y)"
   ]
  },
  {
   "cell_type": "code",
   "execution_count": 128,
   "metadata": {},
   "outputs": [
    {
     "data": {
      "text/plain": [
       "array([-0.14981856,  0.61951025, -0.0304683 , -0.30559906,  1.0716138 ,\n",
       "       -1.00157612,  1.04662321, -1.20137324, -0.50877312, -0.84494848,\n",
       "        3.50487512, -0.26147512])"
      ]
     },
     "execution_count": 128,
     "metadata": {},
     "output_type": "execute_result"
    }
   ],
   "source": [
    "mode.coef_"
   ]
  },
  {
   "cell_type": "code",
   "execution_count": 129,
   "metadata": {},
   "outputs": [
    {
     "data": {
      "text/plain": [
       "array([ 4.72636269,  5.27775069,  4.74545928, ..., 11.1422966 ,\n",
       "        7.56391142,  9.51027129])"
      ]
     },
     "execution_count": 129,
     "metadata": {},
     "output_type": "execute_result"
    }
   ],
   "source": [
    "bb=mode.predict(X_test)\n",
    "bb"
   ]
  },
  {
   "cell_type": "code",
   "execution_count": 130,
   "metadata": {},
   "outputs": [
    {
     "name": "stdout",
     "output_type": "stream",
     "text": [
      "this is R2 score: 0.8815514754434712\n",
      "This is Mean Absolute Error: 0.21204807183786742\n",
      "This is Mean squared Error: 0.07586314167647451\n"
     ]
    }
   ],
   "source": [
    "from sklearn.metrics import r2_score, mean_absolute_error, mean_squared_error\n",
    "cr=r2_score(y_test,pr)\n",
    "mae=mean_absolute_error(y_test, bb)\n",
    "mse=mean_squared_error(y_test,bb)\n",
    "print(\"this is R2 score:\", cr)\n",
    "print(\"This is Mean Absolute Error:\", mae)\n",
    "print(\"This is Mean squared Error:\", mse)"
   ]
  },
  {
   "cell_type": "code",
   "execution_count": 131,
   "metadata": {},
   "outputs": [
    {
     "data": {
      "text/plain": [
       "<ErrorbarContainer object of 3 artists>"
      ]
     },
     "execution_count": 131,
     "metadata": {},
     "output_type": "execute_result"
    },
    {
     "data": {
      "image/png": "[encoded data removed]",
      "text/plain": [
       "<Figure size 432x288 with 1 Axes>"
      ]
     },
     "metadata": {
      "needs_background": "light"
     },
     "output_type": "display_data"
    }
   ],
   "source": [
    "fig = plt.figure()\n",
    "ax = fig.add_subplot(111)\n",
    "ax.errorbar(y_test, bb, fmt='o')\n",
    "ax.errorbar([1, y_test.max()], [1, y_test.max()])"
   ]
  },
  {
   "cell_type": "markdown",
   "metadata": {},
   "source": [
    "# SVR"
   ]
  },
  {
   "cell_type": "code",
   "execution_count": 132,
   "metadata": {},
   "outputs": [
    {
     "name": "stderr",
     "output_type": "stream",
     "text": [
      "c:\\users\\themo\\appdata\\local\\programs\\python\\python37\\lib\\site-packages\\sklearn\\svm\\base.py:193: FutureWarning: The default value of gamma will change from 'auto' to 'scale' in version 0.22 to account better for unscaled features. Set gamma explicitly to 'auto' or 'scale' to avoid this warning.\n",
      "  \"avoid this warning.\", FutureWarning)\n",
      "c:\\users\\themo\\appdata\\local\\programs\\python\\python37\\lib\\site-packages\\sklearn\\svm\\base.py:193: FutureWarning: The default value of gamma will change from 'auto' to 'scale' in version 0.22 to account better for unscaled features. Set gamma explicitly to 'auto' or 'scale' to avoid this warning.\n",
      "  \"avoid this warning.\", FutureWarning)\n",
      "c:\\users\\themo\\appdata\\local\\programs\\python\\python37\\lib\\site-packages\\sklearn\\svm\\base.py:193: FutureWarning: The default value of gamma will change from 'auto' to 'scale' in version 0.22 to account better for unscaled features. Set gamma explicitly to 'auto' or 'scale' to avoid this warning.\n",
      "  \"avoid this warning.\", FutureWarning)\n",
      "c:\\users\\themo\\appdata\\local\\programs\\python\\python37\\lib\\site-packages\\sklearn\\svm\\base.py:193: FutureWarning: The default value of gamma will change from 'auto' to 'scale' in version 0.22 to account better for unscaled features. Set gamma explicitly to 'auto' or 'scale' to avoid this warning.\n",
      "  \"avoid this warning.\", FutureWarning)\n",
      "c:\\users\\themo\\appdata\\local\\programs\\python\\python37\\lib\\site-packages\\sklearn\\svm\\base.py:193: FutureWarning: The default value of gamma will change from 'auto' to 'scale' in version 0.22 to account better for unscaled features. Set gamma explicitly to 'auto' or 'scale' to avoid this warning.\n",
      "  \"avoid this warning.\", FutureWarning)\n",
      "c:\\users\\themo\\appdata\\local\\programs\\python\\python37\\lib\\site-packages\\sklearn\\svm\\base.py:193: FutureWarning: The default value of gamma will change from 'auto' to 'scale' in version 0.22 to account better for unscaled features. Set gamma explicitly to 'auto' or 'scale' to avoid this warning.\n",
      "  \"avoid this warning.\", FutureWarning)\n",
      "c:\\users\\themo\\appdata\\local\\programs\\python\\python37\\lib\\site-packages\\sklearn\\svm\\base.py:193: FutureWarning: The default value of gamma will change from 'auto' to 'scale' in version 0.22 to account better for unscaled features. Set gamma explicitly to 'auto' or 'scale' to avoid this warning.\n",
      "  \"avoid this warning.\", FutureWarning)\n",
      "c:\\users\\themo\\appdata\\local\\programs\\python\\python37\\lib\\site-packages\\sklearn\\svm\\base.py:193: FutureWarning: The default value of gamma will change from 'auto' to 'scale' in version 0.22 to account better for unscaled features. Set gamma explicitly to 'auto' or 'scale' to avoid this warning.\n",
      "  \"avoid this warning.\", FutureWarning)\n",
      "c:\\users\\themo\\appdata\\local\\programs\\python\\python37\\lib\\site-packages\\sklearn\\svm\\base.py:193: FutureWarning: The default value of gamma will change from 'auto' to 'scale' in version 0.22 to account better for unscaled features. Set gamma explicitly to 'auto' or 'scale' to avoid this warning.\n",
      "  \"avoid this warning.\", FutureWarning)\n",
      "c:\\users\\themo\\appdata\\local\\programs\\python\\python37\\lib\\site-packages\\sklearn\\svm\\base.py:193: FutureWarning: The default value of gamma will change from 'auto' to 'scale' in version 0.22 to account better for unscaled features. Set gamma explicitly to 'auto' or 'scale' to avoid this warning.\n",
      "  \"avoid this warning.\", FutureWarning)\n"
     ]
    },
    {
     "name": "stdout",
     "output_type": "stream",
     "text": [
      "Accuracy: 0.85 (+/- 0.08)\n",
      "[0.83856725 0.89068966 0.89161317 0.82193233 0.81341627 0.87277999\n",
      " 0.90550205 0.88804997 0.83624599 0.77219107]\n"
     ]
    }
   ],
   "source": [
    "from sklearn.model_selection import cross_val_score\n",
    "from sklearn.svm import SVR\n",
    "regr=SVR(kernel='rbf')\n",
    "scores = cross_val_score(regr,x_pca,y, cv=10)\n",
    "print(\"Accuracy: %0.2f (+/- %0.2f)\" % (scores.mean(), scores.std() * 2))\n",
    "print(scores)"
   ]
  },
  {
   "cell_type": "code",
   "execution_count": 133,
   "metadata": {},
   "outputs": [
    {
     "name": "stderr",
     "output_type": "stream",
     "text": [
      "c:\\users\\themo\\appdata\\local\\programs\\python\\python37\\lib\\site-packages\\sklearn\\svm\\base.py:193: FutureWarning: The default value of gamma will change from 'auto' to 'scale' in version 0.22 to account better for unscaled features. Set gamma explicitly to 'auto' or 'scale' to avoid this warning.\n",
      "  \"avoid this warning.\", FutureWarning)\n"
     ]
    },
    {
     "data": {
      "text/plain": [
       "SVR(C=1.0, cache_size=200, coef0=0.0, degree=3, epsilon=0.1,\n",
       "    gamma='auto_deprecated', kernel='rbf', max_iter=-1, shrinking=True,\n",
       "    tol=0.001, verbose=False)"
      ]
     },
     "execution_count": 133,
     "metadata": {},
     "output_type": "execute_result"
    }
   ],
   "source": [
    "reg.fit(x_pca,y)"
   ]
  },
  {
   "cell_type": "code",
   "execution_count": 134,
   "metadata": {},
   "outputs": [
    {
     "data": {
      "text/plain": [
       "0.9212072709606832"
      ]
     },
     "execution_count": 134,
     "metadata": {},
     "output_type": "execute_result"
    }
   ],
   "source": [
    "reg.score(X_test,y_test)"
   ]
  },
  {
   "cell_type": "code",
   "execution_count": 135,
   "metadata": {},
   "outputs": [],
   "source": [
    "svrpred=reg.predict(X_test)"
   ]
  },
  {
   "cell_type": "code",
   "execution_count": 136,
   "metadata": {},
   "outputs": [
    {
     "data": {
      "text/plain": [
       "<ErrorbarContainer object of 3 artists>"
      ]
     },
     "execution_count": 136,
     "metadata": {},
     "output_type": "execute_result"
    },
    {
     "data": {
      "image/png": "[encoded data removed]",
      "text/plain": [
       "<Figure size 432x288 with 1 Axes>"
      ]
     },
     "metadata": {
      "needs_background": "light"
     },
     "output_type": "display_data"
    }
   ],
   "source": [
    "%matplotlib inline\n",
    "fig = plt.figure()\n",
    "ax = fig.add_subplot(111)\n",
    "ax.errorbar(y_test, svrpred, fmt='o')\n",
    "ax.errorbar([1, y_test.max()], [1, y_test.max()])"
   ]
  },
  {
   "cell_type": "markdown",
   "metadata": {},
   "source": [
    "# Cross validation"
   ]
  },
  {
   "cell_type": "code",
   "execution_count": null,
   "metadata": {},
   "outputs": [],
   "source": []
  },
  {
   "cell_type": "code",
   "execution_count": null,
   "metadata": {},
   "outputs": [],
   "source": []
  },
  {
   "cell_type": "code",
   "execution_count": null,
   "metadata": {},
   "outputs": [],
   "source": []
  }
 ],
 "metadata": {
  "kernelspec": {
   "display_name": "Python 3",
   "language": "python",
   "name": "python3"
  },
  "language_info": {
   "codemirror_mode": {
    "name": "ipython",
    "version": 3
   },
   "file_extension": ".py",
   "mimetype": "text/x-python",
   "name": "python",
   "nbconvert_exporter": "python",
   "pygments_lexer": "ipython3",
   "version": "3.7.0"
  }
 },
 "nbformat": 4,
 "nbformat_minor": 2
}
